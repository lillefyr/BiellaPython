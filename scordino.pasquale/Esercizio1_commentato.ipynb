{
 "cells": [
  {
   "cell_type": "markdown",
   "metadata": {},
   "source": [
    "# Esercizio 1\n",
    "## Autore: Pasquale\n",
    "## Data: 13 aprile 2020"
   ]
  },
  {
   "cell_type": "code",
   "execution_count": 5,
   "metadata": {},
   "outputs": [],
   "source": [
    "# Importazione librerie/moduli usati\n",
    "\n",
    "import os # modulo per interagire con il sistema operativo\n",
    "import re # modulo per usare le espressioni regolari\n",
    "import pandas as pd # modulo per caricare files come dataframe e manipolarli\n",
    "import numpy as np # modulo per calcoli scientifici e algebra lineare"
   ]
  },
  {
   "cell_type": "code",
   "execution_count": 6,
   "metadata": {},
   "outputs": [
    {
     "data": {
      "text/plain": [
       "['email_2.txt', 'email_3.txt', 'email_1.txt']"
      ]
     },
     "execution_count": 6,
     "metadata": {},
     "output_type": "execute_result"
    }
   ],
   "source": [
    "# List comprehension per caricare i nomi dei files.txt presenti nella cartella\n",
    "\n",
    "files = [f for f in os.listdir() if re.match(r'^\\w+\\.txt$', f, re.IGNORECASE)] \n",
    "files"
   ]
  },
  {
   "cell_type": "code",
   "execution_count": 7,
   "metadata": {},
   "outputs": [],
   "source": [
    "# Caricamento dei files come dataframe dentro una lista\n",
    "\n",
    "lista_mails = []\n",
    "for i in files:\n",
    "    df = pd.read_table(i, header=None)\n",
    "    lista_mails.append(df)"
   ]
  },
  {
   "cell_type": "code",
   "execution_count": 8,
   "metadata": {},
   "outputs": [],
   "source": [
    "# Manipolazione dei dataframes per estrarre le parole singole\n",
    "\n",
    "lista1 = [] \n",
    "lista2 = []\n",
    "lista3 = []\n",
    "for k in range(len(lista_mails)):\n",
    "    lista1.append(str(list(lista_mails[k][0])).lower())\n",
    "    lista2.append(re.sub(r'[,\\.\\[\\]\\?’\\']', ' ', lista1[k]))\n",
    "    lista3.append(re.split(r'\\s|/', lista2[k]))\n",
    "    while(\"\" in lista3[k]): \n",
    "        lista3[k].remove(\"\")"
   ]
  },
  {
   "cell_type": "code",
   "execution_count": 9,
   "metadata": {},
   "outputs": [],
   "source": [
    "# Dizionario dato con le parole e i relativi score\n",
    "\n",
    "wordict = {\n",
    "\"purtroppo\" : 2,\n",
    "\"anomalia\" : 1,\n",
    "\"errore\" : 1,\n",
    "\"lamentele\" : 2,\n",
    "\"rimborsi\" : 1,\n",
    "\"disservizi\" : 1,\n",
    "\"ritardi\" : 2,\n",
    "\"problema\" : 1,\n",
    "\"grande\": 4,\n",
    "\"ringraziare\": 4,\n",
    "\"eccellente\": 5,\n",
    "\"bravissimi\": 5\n",
    "}"
   ]
  },
  {
   "cell_type": "code",
   "execution_count": 10,
   "metadata": {},
   "outputs": [
    {
     "data": {
      "text/plain": [
       "['purtroppo',\n",
       " 'anomalia',\n",
       " 'errore',\n",
       " 'lamentele',\n",
       " 'rimborsi',\n",
       " 'disservizi',\n",
       " 'ritardi',\n",
       " 'problema',\n",
       " 'grande',\n",
       " 'ringraziare',\n",
       " 'eccellente',\n",
       " 'bravissimi']"
      ]
     },
     "execution_count": 10,
     "metadata": {},
     "output_type": "execute_result"
    }
   ],
   "source": [
    "# Trasformazione del dizionario in lista\n",
    "\n",
    "listakeys = list(wordict.keys())\n",
    "listakeys"
   ]
  },
  {
   "cell_type": "code",
   "execution_count": 11,
   "metadata": {},
   "outputs": [],
   "source": [
    "# Ricerca delle parole del dizionario(trasformato in lista) dentro i dataframes\n",
    "\n",
    "matched1 = []\n",
    "matched2 = []\n",
    "matched3 = []\n",
    "for k in range(len(listakeys)):\n",
    "    for j in range(len(lista3[0])):\n",
    "            matched1.append(re.findall(listakeys[k], lista3[0][j]))\n",
    "    for j in range(len(lista3[1])):\n",
    "            matched2.append(re.findall(listakeys[k], lista3[1][j]))\n",
    "    for j in range(len(lista3[2])):\n",
    "            matched3.append(re.findall(listakeys[k], lista3[2][j]))"
   ]
  },
  {
   "cell_type": "code",
   "execution_count": null,
   "metadata": {},
   "outputs": [],
   "source": []
  },
  {
   "cell_type": "code",
   "execution_count": 13,
   "metadata": {},
   "outputs": [],
   "source": [
    "# Eliminazione delle liste vuote che si sono prodotte nel passaggio precedente\n",
    "# e conseguente estrazione delle solo occorenze\n",
    "\n",
    "filtered_matched1 = []\n",
    "filtered_matched2 = []\n",
    "filtered_matched3 = []\n",
    "for item in matched1:\n",
    "    if item!=[]:\n",
    "        filtered_matched1.append(item)\n",
    "for item in matched2:\n",
    "    if item!=[]:\n",
    "        filtered_matched2.append(item)\n",
    "for item in matched3:\n",
    "    if item!=[]:\n",
    "        filtered_matched3.append(item)"
   ]
  },
  {
   "cell_type": "code",
   "execution_count": 14,
   "metadata": {},
   "outputs": [
    {
     "name": "stdout",
     "output_type": "stream",
     "text": [
      "[['anomalia'], ['disservizi'], ['ritardi'], ['problema']]\n",
      "[['grande'], ['ringraziare'], ['eccellente'], ['bravissimi']]\n",
      "[['purtroppo'], ['lamentele'], ['rimborsi']]\n"
     ]
    }
   ],
   "source": [
    "# Stampa del risultato della procedura preceente\n",
    "\n",
    "print(filtered_matched1)\n",
    "print(filtered_matched2)\n",
    "print(filtered_matched3)"
   ]
  },
  {
   "cell_type": "code",
   "execution_count": 59,
   "metadata": {},
   "outputs": [],
   "source": [
    "# Estrazione degli score dal dizionario relativi alle occorenze trovate nel passaggio precedente\n",
    "\n",
    "lista_values1 = []\n",
    "lista_values2 = []\n",
    "lista_values3 = []\n",
    "for l in range(len(filtered_matched1)):\n",
    "    lista_values1.append(wordict.get(filtered_matched1[l][0]))\n",
    "for l in range(len(filtered_matched2)):\n",
    "    lista_values2.append(wordict.get(filtered_matched2[l][0]))\n",
    "for l in range(len(filtered_matched3)):\n",
    "    lista_values3.append(wordict.get(filtered_matched3[l][0]))"
   ]
  },
  {
   "cell_type": "code",
   "execution_count": 61,
   "metadata": {},
   "outputs": [],
   "source": [
    "# Calcolo delle medie degli score per ogni files.txt\n",
    "\n",
    "lista_values = [lista_values1, lista_values2, lista_values3]\n",
    "lista_medie = []\n",
    "for h in range(len(lista_values)):\n",
    "    lista_medie.append(np.mean(lista_values[h]))\n"
   ]
  },
  {
   "cell_type": "code",
   "execution_count": 68,
   "metadata": {},
   "outputs": [],
   "source": [
    "# Costruzione del dizionario dei nomi files e relative medie degli score\n",
    "\n",
    "mediedict = dict(zip(files, lista_medie))"
   ]
  },
  {
   "cell_type": "markdown",
   "metadata": {},
   "source": [
    "Risultato esercizio 1"
   ]
  },
  {
   "cell_type": "code",
   "execution_count": 69,
   "metadata": {},
   "outputs": [
    {
     "data": {
      "text/plain": [
       "{'email_2.txt': 1.25, 'email_3.txt': 4.5, 'email_1.txt': 1.6666666666666667}"
      ]
     },
     "execution_count": 69,
     "metadata": {},
     "output_type": "execute_result"
    }
   ],
   "source": [
    "mediedict"
   ]
  }
 ],
 "metadata": {
  "kernelspec": {
   "display_name": "Python 3.8.2 64-bit",
   "language": "python",
   "name": "python38264bit647452dae877433e8006afb85dd549bc"
  },
  "language_info": {
   "codemirror_mode": {
    "name": "ipython",
    "version": 3
   },
   "file_extension": ".py",
   "mimetype": "text/x-python",
   "name": "python",
   "nbconvert_exporter": "python",
   "pygments_lexer": "ipython3",
   "version": "3.8.2"
  }
 },
 "nbformat": 4,
 "nbformat_minor": 4
}
